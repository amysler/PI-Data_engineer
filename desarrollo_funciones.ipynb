{
 "cells": [
  {
   "attachments": {},
   "cell_type": "markdown",
   "metadata": {},
   "source": [
    "## DESARROLLO DE FUNCIONES\n"
   ]
  },
  {
   "cell_type": "code",
   "execution_count": 8,
   "metadata": {},
   "outputs": [],
   "source": [
    "#Importacion de librerias a utilizar\n",
    "\n",
    "import pandas as pd"
   ]
  },
  {
   "cell_type": "code",
   "execution_count": 9,
   "metadata": {},
   "outputs": [],
   "source": [
    "#Ingesta del datafrmae generado luego del proceso de ETL\n",
    "general_df =pd.read_csv('Datasets/plataformas.csv')"
   ]
  },
  {
   "attachments": {},
   "cell_type": "markdown",
   "metadata": {},
   "source": [
    "# -----------------------------------------------------------------------------"
   ]
  },
  {
   "attachments": {},
   "cell_type": "markdown",
   "metadata": {},
   "source": [
    "Consultas a generar:\n",
    "\n",
    "- Cantidad de veces que aparece una keyword en el título de peliculas/series, por plataforma\n",
    "\n",
    "- Cantidad de películas por plataforma con un puntaje mayor a XX en determinado año -- Ok\n",
    "\n",
    "- La segunda película con mayor score para una plataforma determinada, según el orden alfabético de los títulos.\n",
    "\n",
    "- Película que más duró según año, plataforma y tipo de duración ---- OK\n",
    "\n",
    "- Cantidad de series y películas por rating ---- OK"
   ]
  },
  {
   "attachments": {},
   "cell_type": "markdown",
   "metadata": {},
   "source": [
    "# -----------------------------------------------------------------------------"
   ]
  },
  {
   "attachments": {},
   "cell_type": "markdown",
   "metadata": {},
   "source": [
    "Consulta 1: Cantidad de veces que aparece una keyword en el título de peliculas/series, por plataforma"
   ]
  },
  {
   "cell_type": "code",
   "execution_count": 10,
   "metadata": {},
   "outputs": [],
   "source": [
    "def get_word_count(plataform, keyword):\n",
    "    if plataform == \"amazon\":\n",
    "        df_gwc = general_df[general_df['ID'].str.contains(\"a\")]\n",
    "    elif plataform == \"dinsey\":\n",
    "        df_gwc = general_df[general_df['ID'].str.contains(\"d\")]\n",
    "    elif plataform == \"hulu\":\n",
    "        df_gwc = general_df[general_df['ID'].str.contains(\"h\")]\n",
    "    elif plataform == \"netflix\":\n",
    "        df_gwc = general_df[general_df['ID'].str.contains(\"n\")]\n",
    "    else:\n",
    "        print(\"Try again\")\n",
    "    \n",
    "    valor = df_gwc['title'].str.contains(keyword).value_counts()[True]\n",
    "\n",
    "    return print(\"La palabra\", keyword, \"aparece\", valor, \"veces en la plataforma\", plataform)"
   ]
  },
  {
   "cell_type": "code",
   "execution_count": 11,
   "metadata": {},
   "outputs": [
    {
     "name": "stdout",
     "output_type": "stream",
     "text": [
      "La palabra love aparece 196 veces en la plataforma netflix\n"
     ]
    }
   ],
   "source": [
    "get_word_count(\"netflix\", \"love\")"
   ]
  },
  {
   "attachments": {},
   "cell_type": "markdown",
   "metadata": {},
   "source": [
    "# -----------------------------------------------------------------------------"
   ]
  },
  {
   "attachments": {},
   "cell_type": "markdown",
   "metadata": {},
   "source": [
    "Consulta 2: Cantidad de películas por plataforma con un puntaje mayor a XX en determinado año"
   ]
  },
  {
   "cell_type": "code",
   "execution_count": 12,
   "metadata": {},
   "outputs": [],
   "source": [
    "def get_score_count(plataform, score, year):\n",
    "    df5 = general_df[(general_df[\"score\"] > score ) & (general_df[\"release_year\"] == year)]  #Filtro de busqueda por Score y Año\n",
    "    if plataform == \"netflix\":\n",
    "        df_gsc = df5[(df5[\"type\"] == \"movie\") & (df5[\"ID\"].str.findall(\"n\"))]                #Genero un DF general con filtros especificos segun busqueda\n",
    "    elif plataform == \"amazon\":\n",
    "        df_gsc = df5[(df5[\"type\"] == \"movie\") & (df5[\"ID\"].str.findall(\"a\"))]\n",
    "    elif plataform == \"hulu\":\n",
    "        df_gsc = df5[(df5[\"type\"] == \"movie\") & (df5[\"ID\"].str.findall(\"h\"))]\n",
    "    elif plataform == \"disney\":\n",
    "        df_gsc = df5[(df5[\"type\"] == \"movie\") & (df5[\"ID\"].str.findall(\"d\"))]\n",
    "    else:\n",
    "        print(\"Try again\")\n",
    "\n",
    "    return print(\"Peliculas de\", plataform, \"del año\", year, \"con puntaje\", score, \":\", df_gsc.shape[0])\n",
    "          "
   ]
  },
  {
   "cell_type": "code",
   "execution_count": 13,
   "metadata": {},
   "outputs": [
    {
     "name": "stdout",
     "output_type": "stream",
     "text": [
      "Peliculas de netflix del año 2010 con puntaje 85 : 20\n"
     ]
    }
   ],
   "source": [
    "get_score_count(\"netflix\", 85, 2010)"
   ]
  },
  {
   "attachments": {},
   "cell_type": "markdown",
   "metadata": {},
   "source": [
    "# -----------------------------------------------------------------------------"
   ]
  },
  {
   "attachments": {},
   "cell_type": "markdown",
   "metadata": {},
   "source": [
    "Consulta 3: La segunda película con mayor score para una plataforma determinada, según el orden alfabético de los títulos."
   ]
  },
  {
   "cell_type": "code",
   "execution_count": 14,
   "metadata": {},
   "outputs": [],
   "source": [
    "def get_second_score(plataforma):\n",
    "    df_alfabetico = general_df[[\"title\", \"score\", \"type\", \"ID\"]]                                    #Nuevo DF con columnas a utilizar \n",
    "    df_alfabetico = df_alfabetico[df_alfabetico[\"type\"] ==\"movie\"]                                  #Filtro para \"pelicula\"\n",
    "    df_alfabetico = df_alfabetico.sort_values([\"score\", \"title\"], ascending = [False, True])        #Ordena por Score y Titulo\n",
    "    if plataforma == \"amazon\":\n",
    "        df_gss = df_alfabetico[df_alfabetico['ID'].str.contains(\"a\")]\n",
    "    elif plataforma == \"hulu\":\n",
    "        df_gss = df_alfabetico[df_alfabetico['ID'].str.contains(\"h\")]\n",
    "    elif plataforma == \"disney\":\n",
    "        df_gss = df_alfabetico[df_alfabetico['ID'].str.contains(\"d\")]\n",
    "    elif plataforma == \"netflix\":\n",
    "        df_gss = df_alfabetico[df_alfabetico['ID'].str.contains(\"n\")]\n",
    "    else:\n",
    "        print(\"No contamos con esta plataforma\")\n",
    "\n",
    "    segundo_titulo = df_gss.iloc[1, 0]\n",
    "    segundo_score = df_gss.iloc[1, 1]\n",
    "    return f'Segunda pelicula con mayor score de la paltaforma {plataforma} es {segundo_titulo} con un score de {segundo_score}' "
   ]
  },
  {
   "cell_type": "code",
   "execution_count": 15,
   "metadata": {},
   "outputs": [
    {
     "data": {
      "text/plain": [
       "'Segunda pelicula con mayor score de la paltaforma amazon es abilene town con un score de 100'"
      ]
     },
     "execution_count": 15,
     "metadata": {},
     "output_type": "execute_result"
    }
   ],
   "source": [
    "get_second_score(\"amazon\")"
   ]
  },
  {
   "attachments": {},
   "cell_type": "markdown",
   "metadata": {},
   "source": [
    "# -----------------------------------------------------------------------------"
   ]
  },
  {
   "attachments": {},
   "cell_type": "markdown",
   "metadata": {
    "tags": [
     "parameters"
    ]
   },
   "source": [
    "Consulta 4: Película que más duró según año, plataforma y tipo de duración"
   ]
  },
  {
   "cell_type": "code",
   "execution_count": 16,
   "metadata": {},
   "outputs": [],
   "source": [
    "def get_longest(plataforma, duracion, año):\n",
    "    if plataforma == \"netflix\":\n",
    "            df1 = general_df[(general_df[\"type\"] == \"movie\") & (general_df[\"release_year\"] == año) & (general_df[\"duration_type\"] == duracion) & (general_df[\"ID\"].str.findall(\"n\"))]\n",
    "    elif plataforma == \"disney\":\n",
    "            df1 = general_df[(general_df[\"type\"] == \"movie\") & (general_df[\"release_year\"] == año) & (general_df[\"duration_type\"] == duracion) & (general_df[\"ID\"].str.findall(\"d\"))]\n",
    "    elif plataforma == \"hulu\":\n",
    "            df1 = general_df[(general_df[\"type\"] == \"movie\") & (general_df[\"release_year\"] == año) & (general_df[\"duration_type\"] == duracion) & (general_df[\"ID\"].str.findall(\"h\"))]\n",
    "    elif plataforma == \"amazon\":\n",
    "            df1 = general_df[(general_df[\"type\"] == \"movie\") & (general_df[\"release_year\"] == año) & (general_df[\"duration_type\"] == duracion) & (general_df[\"ID\"].str.findall(\"a\"))]\n",
    "    else:\n",
    "            print (\"No contamos con la base de datos de dicha plataforma\")\n",
    "    \n",
    "    df2 = df1[df1[\"duration_int\"] == (df1[\"duration_int\"].max())]\n",
    "    return f'Pelicula de {plataforma} con mayor duracion en {duracion} del año {año} es: {df2.iloc[0, 2]}'"
   ]
  },
  {
   "cell_type": "code",
   "execution_count": 17,
   "metadata": {},
   "outputs": [
    {
     "data": {
      "text/plain": [
       "'Pelicula de netflix con mayor duracion en min del año 2016 es: sairat'"
      ]
     },
     "execution_count": 17,
     "metadata": {},
     "output_type": "execute_result"
    }
   ],
   "source": [
    "get_longest(\"netflix\", \"min\", 2016)"
   ]
  },
  {
   "attachments": {},
   "cell_type": "markdown",
   "metadata": {},
   "source": [
    "# -----------------------------------------------------------------------------"
   ]
  },
  {
   "attachments": {},
   "cell_type": "markdown",
   "metadata": {},
   "source": [
    "Consulta 5: Cantidad de series y películas por rate"
   ]
  },
  {
   "cell_type": "code",
   "execution_count": 18,
   "metadata": {},
   "outputs": [],
   "source": [
    "def get_rating_count(rate):\n",
    "    df1 = general_df[general_df[\"rating\"] == rate]\n",
    "    return df1.shape[0]"
   ]
  },
  {
   "cell_type": "code",
   "execution_count": 19,
   "metadata": {},
   "outputs": [
    {
     "data": {
      "text/plain": [
       "1243"
      ]
     },
     "execution_count": 19,
     "metadata": {},
     "output_type": "execute_result"
    }
   ],
   "source": [
    "get_rating_count(\"18+\")"
   ]
  }
 ],
 "metadata": {
  "kernelspec": {
   "display_name": "Python 3",
   "language": "python",
   "name": "python3"
  },
  "language_info": {
   "codemirror_mode": {
    "name": "ipython",
    "version": 3
   },
   "file_extension": ".py",
   "mimetype": "text/x-python",
   "name": "python",
   "nbconvert_exporter": "python",
   "pygments_lexer": "ipython3",
   "version": "3.10.6 (tags/v3.10.6:9c7b4bd, Aug  1 2022, 21:53:49) [MSC v.1932 64 bit (AMD64)]"
  },
  "orig_nbformat": 4,
  "vscode": {
   "interpreter": {
    "hash": "64591f056784975da7a54cf5626d63a0be59970f3f9cceaab76df64e7e8b2b2d"
   }
  }
 },
 "nbformat": 4,
 "nbformat_minor": 2
}
